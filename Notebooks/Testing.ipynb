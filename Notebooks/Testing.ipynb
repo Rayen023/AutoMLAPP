{
 "cells": [
  {
   "cell_type": "code",
   "execution_count": 1,
   "metadata": {},
   "outputs": [
    {
     "name": "stdout",
     "output_type": "stream",
     "text": [
      "Transformation Pipeline and Model Successfully Loaded\n"
     ]
    }
   ],
   "source": [
    "import pickle\n",
    "import pandas as pd \n",
    "from pycaret.regression import load_model\n",
    "\n",
    "model = load_model('../best_model_d')\n"
   ]
  },
  {
   "cell_type": "code",
   "execution_count": 2,
   "metadata": {},
   "outputs": [],
   "source": [
    "df = pd.read_csv('../Datasets/source_data.csv')"
   ]
  },
  {
   "cell_type": "code",
   "execution_count": 3,
   "metadata": {},
   "outputs": [],
   "source": [
    "sample_df = df.drop('activity', axis = 1)"
   ]
  },
  {
   "cell_type": "code",
   "execution_count": 4,
   "metadata": {},
   "outputs": [
    {
     "data": {
      "text/plain": [
       "array([0, 0, 4, ..., 5, 5, 5])"
      ]
     },
     "execution_count": 4,
     "metadata": {},
     "output_type": "execute_result"
    }
   ],
   "source": [
    "preds = model.predict(sample_df)\n",
    "preds"
   ]
  },
  {
   "cell_type": "code",
   "execution_count": 5,
   "metadata": {},
   "outputs": [],
   "source": [
    "df['preds'] = preds"
   ]
  },
  {
   "cell_type": "code",
   "execution_count": 6,
   "metadata": {},
   "outputs": [
    {
     "data": {
      "text/plain": [
       "{0: 'Downstairs',\n",
       " 1: 'Jogging',\n",
       " 2: 'Sitting',\n",
       " 3: 'Standing',\n",
       " 4: 'Upstairs',\n",
       " 5: 'Walking'}"
      ]
     },
     "execution_count": 6,
     "metadata": {},
     "output_type": "execute_result"
    }
   ],
   "source": [
    "x = {'Downstairs': 0, 'Jogging': 1, 'Sitting': 2, 'Standing': 3, 'Upstairs': 4, 'Walking': 5}\n",
    "\n",
    "inv_dict = {v:k for k,v in x.items()}\n",
    "inv_dict"
   ]
  },
  {
   "cell_type": "code",
   "execution_count": 7,
   "metadata": {},
   "outputs": [],
   "source": [
    "df['preds'] = df['preds'].map( inv_dict ).astype(str)"
   ]
  },
  {
   "cell_type": "code",
   "execution_count": 8,
   "metadata": {},
   "outputs": [
    {
     "data": {
      "text/html": [
       "<div>\n",
       "<style scoped>\n",
       "    .dataframe tbody tr th:only-of-type {\n",
       "        vertical-align: middle;\n",
       "    }\n",
       "\n",
       "    .dataframe tbody tr th {\n",
       "        vertical-align: top;\n",
       "    }\n",
       "\n",
       "    .dataframe thead th {\n",
       "        text-align: right;\n",
       "    }\n",
       "</style>\n",
       "<table border=\"1\" class=\"dataframe\">\n",
       "  <thead>\n",
       "    <tr style=\"text-align: right;\">\n",
       "      <th></th>\n",
       "      <th>activity</th>\n",
       "      <th>timestamp</th>\n",
       "      <th>x-axis</th>\n",
       "      <th>y-axis</th>\n",
       "      <th>z-axis</th>\n",
       "      <th>preds</th>\n",
       "    </tr>\n",
       "  </thead>\n",
       "  <tbody>\n",
       "    <tr>\n",
       "      <th>0</th>\n",
       "      <td>Downstairs</td>\n",
       "      <td>25059212295000</td>\n",
       "      <td>-0.99</td>\n",
       "      <td>7.46</td>\n",
       "      <td>-0.844462</td>\n",
       "      <td>Downstairs</td>\n",
       "    </tr>\n",
       "    <tr>\n",
       "      <th>1</th>\n",
       "      <td>Downstairs</td>\n",
       "      <td>131220641634000</td>\n",
       "      <td>14.10</td>\n",
       "      <td>11.50</td>\n",
       "      <td>-3.410000</td>\n",
       "      <td>Downstairs</td>\n",
       "    </tr>\n",
       "    <tr>\n",
       "      <th>2</th>\n",
       "      <td>Downstairs</td>\n",
       "      <td>119022261542000</td>\n",
       "      <td>-1.88</td>\n",
       "      <td>13.59</td>\n",
       "      <td>0.150000</td>\n",
       "      <td>Upstairs</td>\n",
       "    </tr>\n",
       "    <tr>\n",
       "      <th>3</th>\n",
       "      <td>Downstairs</td>\n",
       "      <td>8984652293000</td>\n",
       "      <td>11.41</td>\n",
       "      <td>5.86</td>\n",
       "      <td>1.498238</td>\n",
       "      <td>Downstairs</td>\n",
       "    </tr>\n",
       "    <tr>\n",
       "      <th>4</th>\n",
       "      <td>Downstairs</td>\n",
       "      <td>2458592265000</td>\n",
       "      <td>2.79</td>\n",
       "      <td>16.32</td>\n",
       "      <td>1.184970</td>\n",
       "      <td>Downstairs</td>\n",
       "    </tr>\n",
       "    <tr>\n",
       "      <th>...</th>\n",
       "      <td>...</td>\n",
       "      <td>...</td>\n",
       "      <td>...</td>\n",
       "      <td>...</td>\n",
       "      <td>...</td>\n",
       "      <td>...</td>\n",
       "    </tr>\n",
       "    <tr>\n",
       "      <th>283453</th>\n",
       "      <td>Walking</td>\n",
       "      <td>1153732249000</td>\n",
       "      <td>-2.64</td>\n",
       "      <td>7.55</td>\n",
       "      <td>-2.683209</td>\n",
       "      <td>Walking</td>\n",
       "    </tr>\n",
       "    <tr>\n",
       "      <th>283454</th>\n",
       "      <td>Walking</td>\n",
       "      <td>528432323000</td>\n",
       "      <td>13.02</td>\n",
       "      <td>-5.05</td>\n",
       "      <td>2.150000</td>\n",
       "      <td>Walking</td>\n",
       "    </tr>\n",
       "    <tr>\n",
       "      <th>283455</th>\n",
       "      <td>Walking</td>\n",
       "      <td>101967792609000</td>\n",
       "      <td>13.48</td>\n",
       "      <td>4.56</td>\n",
       "      <td>4.590000</td>\n",
       "      <td>Walking</td>\n",
       "    </tr>\n",
       "    <tr>\n",
       "      <th>283456</th>\n",
       "      <td>Walking</td>\n",
       "      <td>512302257000</td>\n",
       "      <td>-3.45</td>\n",
       "      <td>7.78</td>\n",
       "      <td>-4.562817</td>\n",
       "      <td>Walking</td>\n",
       "    </tr>\n",
       "    <tr>\n",
       "      <th>283457</th>\n",
       "      <td>Walking</td>\n",
       "      <td>110309221595000</td>\n",
       "      <td>-2.96</td>\n",
       "      <td>10.53</td>\n",
       "      <td>-3.170000</td>\n",
       "      <td>Walking</td>\n",
       "    </tr>\n",
       "  </tbody>\n",
       "</table>\n",
       "<p>283458 rows × 6 columns</p>\n",
       "</div>"
      ],
      "text/plain": [
       "          activity        timestamp  x-axis  y-axis    z-axis       preds\n",
       "0       Downstairs   25059212295000   -0.99    7.46 -0.844462  Downstairs\n",
       "1       Downstairs  131220641634000   14.10   11.50 -3.410000  Downstairs\n",
       "2       Downstairs  119022261542000   -1.88   13.59  0.150000    Upstairs\n",
       "3       Downstairs    8984652293000   11.41    5.86  1.498238  Downstairs\n",
       "4       Downstairs    2458592265000    2.79   16.32  1.184970  Downstairs\n",
       "...            ...              ...     ...     ...       ...         ...\n",
       "283453     Walking    1153732249000   -2.64    7.55 -2.683209     Walking\n",
       "283454     Walking     528432323000   13.02   -5.05  2.150000     Walking\n",
       "283455     Walking  101967792609000   13.48    4.56  4.590000     Walking\n",
       "283456     Walking     512302257000   -3.45    7.78 -4.562817     Walking\n",
       "283457     Walking  110309221595000   -2.96   10.53 -3.170000     Walking\n",
       "\n",
       "[283458 rows x 6 columns]"
      ]
     },
     "execution_count": 8,
     "metadata": {},
     "output_type": "execute_result"
    }
   ],
   "source": [
    "df"
   ]
  },
  {
   "cell_type": "code",
   "execution_count": 9,
   "metadata": {},
   "outputs": [
    {
     "data": {
      "text/html": [
       "<div>\n",
       "<style scoped>\n",
       "    .dataframe tbody tr th:only-of-type {\n",
       "        vertical-align: middle;\n",
       "    }\n",
       "\n",
       "    .dataframe tbody tr th {\n",
       "        vertical-align: top;\n",
       "    }\n",
       "\n",
       "    .dataframe thead th {\n",
       "        text-align: right;\n",
       "    }\n",
       "</style>\n",
       "<table border=\"1\" class=\"dataframe\">\n",
       "  <thead>\n",
       "    <tr style=\"text-align: right;\">\n",
       "      <th></th>\n",
       "      <th>activity</th>\n",
       "      <th>timestamp</th>\n",
       "      <th>x-axis</th>\n",
       "      <th>y-axis</th>\n",
       "      <th>z-axis</th>\n",
       "      <th>preds</th>\n",
       "    </tr>\n",
       "  </thead>\n",
       "  <tbody>\n",
       "    <tr>\n",
       "      <th>0</th>\n",
       "      <td>Downstairs</td>\n",
       "      <td>25059212295000</td>\n",
       "      <td>-0.99</td>\n",
       "      <td>7.46</td>\n",
       "      <td>-0.844462</td>\n",
       "      <td>Downstairs</td>\n",
       "    </tr>\n",
       "    <tr>\n",
       "      <th>1</th>\n",
       "      <td>Downstairs</td>\n",
       "      <td>131220641634000</td>\n",
       "      <td>14.10</td>\n",
       "      <td>11.50</td>\n",
       "      <td>-3.410000</td>\n",
       "      <td>Downstairs</td>\n",
       "    </tr>\n",
       "    <tr>\n",
       "      <th>3</th>\n",
       "      <td>Downstairs</td>\n",
       "      <td>8984652293000</td>\n",
       "      <td>11.41</td>\n",
       "      <td>5.86</td>\n",
       "      <td>1.498238</td>\n",
       "      <td>Downstairs</td>\n",
       "    </tr>\n",
       "    <tr>\n",
       "      <th>4</th>\n",
       "      <td>Downstairs</td>\n",
       "      <td>2458592265000</td>\n",
       "      <td>2.79</td>\n",
       "      <td>16.32</td>\n",
       "      <td>1.184970</td>\n",
       "      <td>Downstairs</td>\n",
       "    </tr>\n",
       "    <tr>\n",
       "      <th>5</th>\n",
       "      <td>Downstairs</td>\n",
       "      <td>3104102276000</td>\n",
       "      <td>0.08</td>\n",
       "      <td>13.18</td>\n",
       "      <td>3.568531</td>\n",
       "      <td>Downstairs</td>\n",
       "    </tr>\n",
       "    <tr>\n",
       "      <th>...</th>\n",
       "      <td>...</td>\n",
       "      <td>...</td>\n",
       "      <td>...</td>\n",
       "      <td>...</td>\n",
       "      <td>...</td>\n",
       "      <td>...</td>\n",
       "    </tr>\n",
       "    <tr>\n",
       "      <th>283453</th>\n",
       "      <td>Walking</td>\n",
       "      <td>1153732249000</td>\n",
       "      <td>-2.64</td>\n",
       "      <td>7.55</td>\n",
       "      <td>-2.683209</td>\n",
       "      <td>Walking</td>\n",
       "    </tr>\n",
       "    <tr>\n",
       "      <th>283454</th>\n",
       "      <td>Walking</td>\n",
       "      <td>528432323000</td>\n",
       "      <td>13.02</td>\n",
       "      <td>-5.05</td>\n",
       "      <td>2.150000</td>\n",
       "      <td>Walking</td>\n",
       "    </tr>\n",
       "    <tr>\n",
       "      <th>283455</th>\n",
       "      <td>Walking</td>\n",
       "      <td>101967792609000</td>\n",
       "      <td>13.48</td>\n",
       "      <td>4.56</td>\n",
       "      <td>4.590000</td>\n",
       "      <td>Walking</td>\n",
       "    </tr>\n",
       "    <tr>\n",
       "      <th>283456</th>\n",
       "      <td>Walking</td>\n",
       "      <td>512302257000</td>\n",
       "      <td>-3.45</td>\n",
       "      <td>7.78</td>\n",
       "      <td>-4.562817</td>\n",
       "      <td>Walking</td>\n",
       "    </tr>\n",
       "    <tr>\n",
       "      <th>283457</th>\n",
       "      <td>Walking</td>\n",
       "      <td>110309221595000</td>\n",
       "      <td>-2.96</td>\n",
       "      <td>10.53</td>\n",
       "      <td>-3.170000</td>\n",
       "      <td>Walking</td>\n",
       "    </tr>\n",
       "  </tbody>\n",
       "</table>\n",
       "<p>275110 rows × 6 columns</p>\n",
       "</div>"
      ],
      "text/plain": [
       "          activity        timestamp  x-axis  y-axis    z-axis       preds\n",
       "0       Downstairs   25059212295000   -0.99    7.46 -0.844462  Downstairs\n",
       "1       Downstairs  131220641634000   14.10   11.50 -3.410000  Downstairs\n",
       "3       Downstairs    8984652293000   11.41    5.86  1.498238  Downstairs\n",
       "4       Downstairs    2458592265000    2.79   16.32  1.184970  Downstairs\n",
       "5       Downstairs    3104102276000    0.08   13.18  3.568531  Downstairs\n",
       "...            ...              ...     ...     ...       ...         ...\n",
       "283453     Walking    1153732249000   -2.64    7.55 -2.683209     Walking\n",
       "283454     Walking     528432323000   13.02   -5.05  2.150000     Walking\n",
       "283455     Walking  101967792609000   13.48    4.56  4.590000     Walking\n",
       "283456     Walking     512302257000   -3.45    7.78 -4.562817     Walking\n",
       "283457     Walking  110309221595000   -2.96   10.53 -3.170000     Walking\n",
       "\n",
       "[275110 rows x 6 columns]"
      ]
     },
     "execution_count": 9,
     "metadata": {},
     "output_type": "execute_result"
    }
   ],
   "source": [
    "df[df['activity']==df['preds']]"
   ]
  },
  {
   "cell_type": "code",
   "execution_count": null,
   "metadata": {},
   "outputs": [],
   "source": []
  }
 ],
 "metadata": {
  "kernelspec": {
   "display_name": "Python 3.8.13 ('AutoMLApp')",
   "language": "python",
   "name": "python3"
  },
  "language_info": {
   "codemirror_mode": {
    "name": "ipython",
    "version": 3
   },
   "file_extension": ".py",
   "mimetype": "text/x-python",
   "name": "python",
   "nbconvert_exporter": "python",
   "pygments_lexer": "ipython3",
   "version": "3.8.13"
  },
  "orig_nbformat": 4,
  "vscode": {
   "interpreter": {
    "hash": "56857b56717d4c3b1264ea75584e38ee5939a8937502425c070298bb391e35aa"
   }
  }
 },
 "nbformat": 4,
 "nbformat_minor": 2
}
